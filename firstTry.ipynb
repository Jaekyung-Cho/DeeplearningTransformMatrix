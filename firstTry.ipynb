{
  "nbformat": 4,
  "nbformat_minor": 0,
  "metadata": {
    "colab": {
      "name": "Untitled1.ipynb",
      "provenance": [],
      "collapsed_sections": [],
      "authorship_tag": "ABX9TyMhlQ2JX+VSBRq43uklxTqy",
      "include_colab_link": true
    },
    "kernelspec": {
      "name": "python3",
      "display_name": "Python 3"
    },
    "accelerator": "GPU"
  },
  "cells": [
    {
      "cell_type": "markdown",
      "metadata": {
        "id": "view-in-github",
        "colab_type": "text"
      },
      "source": [
        "<a href=\"https://colab.research.google.com/github/Jaekyung-Cho/DeeplearningTransformMatrix/blob/master/firstTry.ipynb\" target=\"_parent\"><img src=\"https://colab.research.google.com/assets/colab-badge.svg\" alt=\"Open In Colab\"/></a>"
      ]
    },
    {
      "cell_type": "code",
      "metadata": {
        "id": "ufIpTFqNZoUt",
        "colab_type": "code",
        "colab": {
          "base_uri": "https://localhost:8080/",
          "height": 428
        },
        "outputId": "368186fd-45d0-412e-81b8-1f338e58154b"
      },
      "source": [
        "# For starting, import libraries ###########\n",
        "#import Tensorflow 2.0\n",
        "\n",
        "%tensorflow_version=2.x\n",
        "import tensorflow as tf\n",
        "\n",
        "!pip install mitdeeplearning\n",
        "import mitdeeplearning as mdl\n",
        "\n",
        "import matplotlib.pyplot as plt\n",
        "import numpy as np\n",
        "import random\n",
        "from tqdm import tqdm\n",
        "\n",
        "assert len(tf.config.list_physical_devices('GPU')) > 0"
      ],
      "execution_count": 1,
      "outputs": [
        {
          "output_type": "stream",
          "text": [
            "Unknown TensorFlow version: =2.x\n",
            "Currently selected TF version: 2.x\n",
            "Available versions:\n",
            " * 1.x\n",
            " * 2.x\n",
            "Collecting mitdeeplearning\n",
            "\u001b[?25l  Downloading https://files.pythonhosted.org/packages/8b/3b/b9174b68dc10832356d02a2d83a64b43a24f1762c172754407d22fc8f960/mitdeeplearning-0.1.2.tar.gz (2.1MB)\n",
            "\u001b[K     |████████████████████████████████| 2.1MB 3.5MB/s \n",
            "\u001b[?25hRequirement already satisfied: numpy in /usr/local/lib/python3.6/dist-packages (from mitdeeplearning) (1.18.4)\n",
            "Requirement already satisfied: regex in /usr/local/lib/python3.6/dist-packages (from mitdeeplearning) (2019.12.20)\n",
            "Requirement already satisfied: tqdm in /usr/local/lib/python3.6/dist-packages (from mitdeeplearning) (4.41.1)\n",
            "Requirement already satisfied: gym in /usr/local/lib/python3.6/dist-packages (from mitdeeplearning) (0.17.2)\n",
            "Requirement already satisfied: scipy in /usr/local/lib/python3.6/dist-packages (from gym->mitdeeplearning) (1.4.1)\n",
            "Requirement already satisfied: pyglet<=1.5.0,>=1.4.0 in /usr/local/lib/python3.6/dist-packages (from gym->mitdeeplearning) (1.5.0)\n",
            "Requirement already satisfied: cloudpickle<1.4.0,>=1.2.0 in /usr/local/lib/python3.6/dist-packages (from gym->mitdeeplearning) (1.3.0)\n",
            "Requirement already satisfied: future in /usr/local/lib/python3.6/dist-packages (from pyglet<=1.5.0,>=1.4.0->gym->mitdeeplearning) (0.16.0)\n",
            "Building wheels for collected packages: mitdeeplearning\n",
            "  Building wheel for mitdeeplearning (setup.py) ... \u001b[?25l\u001b[?25hdone\n",
            "  Created wheel for mitdeeplearning: filename=mitdeeplearning-0.1.2-cp36-none-any.whl size=2114586 sha256=7d7272d35bb0a1f8084b8dd722120db1e483c15ea704e2f0c77638d2ec43866c\n",
            "  Stored in directory: /root/.cache/pip/wheels/27/e1/73/5f01c787621d8a3c857f59876c79e304b9b64db9ff5bd61b74\n",
            "Successfully built mitdeeplearning\n",
            "Installing collected packages: mitdeeplearning\n",
            "Successfully installed mitdeeplearning-0.1.2\n"
          ],
          "name": "stdout"
        }
      ]
    },
    {
      "cell_type": "code",
      "metadata": {
        "id": "ZW5QadfMZrZ5",
        "colab_type": "code",
        "colab": {}
      },
      "source": [
        "import math\n",
        "\n",
        "def RandHomoTrans():\n",
        "    T = [[0 for col in range(4)] for row in range(4)]\n",
        "    \n",
        "    theta = np.random.rand(3)*2*math.pi\n",
        "    R1 = np.asmatrix([[math.cos(theta[0]), -math.sin(theta[0]),0],\n",
        "         [math.sin(theta[0]), math.cos(theta[0]),0],\n",
        "         [0,0,1]])\n",
        "    \n",
        "    R2 = np.asmatrix([[math.cos(theta[1]),0, -math.sin(theta[1])],\n",
        "         [0,1,0],\n",
        "         [math.sin(theta[1]),0, math.cos(theta[1])]])\n",
        "    \n",
        "    R3 = np.asmatrix([[1,0,0],\n",
        "         [0,math.cos(theta[2]), -math.sin(theta[2])],\n",
        "         [0,math.cos(theta[2]), -math.sin(theta[2])]])\n",
        "    \n",
        "\n",
        "    R = np.asarray(R1*R2*R3)\n",
        "    \n",
        "    P = np.random.rand(3)\n",
        "    \n",
        "    for i in range(3):\n",
        "        for j in range(3):\n",
        "            T[i][j] = R[i][j]\n",
        "    \n",
        "    for i in range(3):\n",
        "        T[i][3] = P[i]\n",
        "        \n",
        "    T[3][3] = 1\n",
        "    \n",
        "    return np.asarray(T)"
      ],
      "execution_count": 0,
      "outputs": []
    },
    {
      "cell_type": "code",
      "metadata": {
        "id": "iLd-KIchnb3Y",
        "colab_type": "code",
        "colab": {}
      },
      "source": [
        "#making training set\n",
        "\n",
        "train_data = []\n",
        "train_label = []\n",
        "test_data = []\n",
        "test_label = []\n",
        "\n",
        "data_dim = 1000\n",
        "\n",
        "for i in range(10000):\n",
        "  \n",
        "  T = RandHomoTrans()\n",
        "  x = (np.random.rand(data_dim)-0.5)*5\n",
        "  y = (np.random.rand(data_dim)-0.5)*5\n",
        "  z = (np.random.rand(data_dim)-0.5)*5\n",
        "\n",
        "  train_data_tmp = []\n",
        "  train_data_tmp_T = []\n",
        "\n",
        "  for j in range(data_dim):\n",
        "    train_data_tmp.append(x[j])\n",
        "    train_data_tmp.append(y[j])\n",
        "    train_data_tmp.append(z[j])\n",
        "    p = [[x[j]],\n",
        "         [y[j]],\n",
        "         [z[j]],\n",
        "         [1]]\n",
        "\n",
        "    p =np.asarray( np.asmatrix(T) * np.asmatrix(p) )\n",
        "\n",
        "    train_data_tmp_T.append(p[0])\n",
        "    train_data_tmp_T.append(p[1])\n",
        "    train_data_tmp_T.append(p[2])\n",
        "\n",
        "  if i%10==0:\n",
        "    test_data.append(train_data_tmp+train_data_tmp_T)\n",
        "    test_label.append(T[0:3][:].reshape(1,12)[0])\n",
        "\n",
        "  else:\n",
        "    train_data.append(train_data_tmp+train_data_tmp_T)\n",
        "    train_label.append(T[0:3][:].reshape(1,12)[0])"
      ],
      "execution_count": 0,
      "outputs": []
    },
    {
      "cell_type": "code",
      "metadata": {
        "id": "a3CIvYeLrRyv",
        "colab_type": "code",
        "colab": {
          "base_uri": "https://localhost:8080/",
          "height": 34
        },
        "outputId": "f56abf99-75be-4198-db24-141fd19e685e"
      },
      "source": [
        "import numpy as np\n",
        "a=np.asarray([[1,2,3,4],[1,1,1,1],[1,1,1,1],[3,3,3,3]])\n",
        "b=[5,6]\n",
        "print(a[0:3][:].reshape(1,12)[0])"
      ],
      "execution_count": 8,
      "outputs": [
        {
          "output_type": "stream",
          "text": [
            "[1 2 3 4 1 1 1 1 1 1 1 1]\n"
          ],
          "name": "stdout"
        }
      ]
    },
    {
      "cell_type": "code",
      "metadata": {
        "id": "eFwNtSBsZ8jy",
        "colab_type": "code",
        "colab": {}
      },
      "source": [
        "def build_fc_model():\n",
        "  fc_model = tf.keras.Sequential([\n",
        "                                  tf.keras.layers.Dense(1000, activation='relu', input_shape=(6000,)),\n",
        "                                  tf.keras.layers.Dense(120, activation='relu'),\n",
        "                                  tf.keras.layers.Dense(12, activation='linear')\n",
        "  ])\n",
        "  return fc_model\n",
        "\n",
        "model = build_fc_model()"
      ],
      "execution_count": 0,
      "outputs": []
    },
    {
      "cell_type": "code",
      "metadata": {
        "id": "fzZZRq8NagxU",
        "colab_type": "code",
        "colab": {}
      },
      "source": [
        "#FCN compile\n",
        "\n",
        "# In case of Adam, learning rate should be lower than 1e-3\n",
        "model.compile(optimizer = tf.keras.optimizers.Adam(lr = 1e-3),\n",
        "              loss = tf.keras.losses.MSE,\n",
        "              metrics=[tf.keras.metrics.RootMeanSquaredError()])\n"
      ],
      "execution_count": 0,
      "outputs": []
    },
    {
      "cell_type": "code",
      "metadata": {
        "id": "4bFGYdLuz_Mb",
        "colab_type": "code",
        "colab": {
          "base_uri": "https://localhost:8080/",
          "height": 51
        },
        "outputId": "7d9e1861-19de-425a-e15c-acfd4188cc74"
      },
      "source": [
        "train_data_arr = np.asarray(train_data).astype(np.float32)\n",
        "train_label_arr = np.asarray(train_label).astype(np.float32)\n",
        "print(train_data_arr.shape)\n",
        "print(train_label_arr.shape)"
      ],
      "execution_count": 14,
      "outputs": [
        {
          "output_type": "stream",
          "text": [
            "(9000, 6000)\n",
            "(9000, 12)\n"
          ],
          "name": "stdout"
        }
      ]
    },
    {
      "cell_type": "code",
      "metadata": {
        "id": "_TVu3l2Oam2X",
        "colab_type": "code",
        "colab": {
          "base_uri": "https://localhost:8080/",
          "height": 374
        },
        "outputId": "0d209bd9-f1cf-4bd9-f2be-249cb99f1ad3"
      },
      "source": [
        "#FCN training\n",
        "\n",
        "Batch_size = 40\n",
        "Epoch = 10\n",
        "\n",
        "model.fit(train_data_arr, train_label_arr, batch_size = Batch_size, epochs = Epoch)"
      ],
      "execution_count": 15,
      "outputs": [
        {
          "output_type": "stream",
          "text": [
            "Epoch 1/10\n",
            "225/225 [==============================] - 2s 7ms/step - loss: 0.3707 - root_mean_squared_error: 0.6089\n",
            "Epoch 2/10\n",
            "225/225 [==============================] - 1s 7ms/step - loss: 0.2942 - root_mean_squared_error: 0.5424\n",
            "Epoch 3/10\n",
            "225/225 [==============================] - 1s 7ms/step - loss: 0.2854 - root_mean_squared_error: 0.5343\n",
            "Epoch 4/10\n",
            "225/225 [==============================] - 1s 7ms/step - loss: 0.2886 - root_mean_squared_error: 0.5372\n",
            "Epoch 5/10\n",
            "225/225 [==============================] - 1s 7ms/step - loss: 0.2734 - root_mean_squared_error: 0.5229\n",
            "Epoch 6/10\n",
            "225/225 [==============================] - 2s 7ms/step - loss: 0.3041 - root_mean_squared_error: 0.5514\n",
            "Epoch 7/10\n",
            "225/225 [==============================] - 2s 7ms/step - loss: 0.2747 - root_mean_squared_error: 0.5241\n",
            "Epoch 8/10\n",
            "225/225 [==============================] - 1s 7ms/step - loss: 0.3364 - root_mean_squared_error: 0.5800\n",
            "Epoch 9/10\n",
            "225/225 [==============================] - 1s 7ms/step - loss: 0.2857 - root_mean_squared_error: 0.5345\n",
            "Epoch 10/10\n",
            "225/225 [==============================] - 1s 6ms/step - loss: 0.3228 - root_mean_squared_error: 0.5681\n"
          ],
          "name": "stdout"
        },
        {
          "output_type": "execute_result",
          "data": {
            "text/plain": [
              "<tensorflow.python.keras.callbacks.History at 0x7f14d79c3cc0>"
            ]
          },
          "metadata": {
            "tags": []
          },
          "execution_count": 15
        }
      ]
    },
    {
      "cell_type": "code",
      "metadata": {
        "id": "XkIePDZK0Ytc",
        "colab_type": "code",
        "colab": {}
      },
      "source": [
        "test_data_arr = np.asarray(test_data).astype(np.float32)\n",
        "test_label_arr = np.asarray(test_label).astype(np.float32)\n",
        "\n",
        "test_loss, test_acc = model.evaluate(test_data_arr, test_label_arr)\n",
        "\n",
        "print(test_acc)"
      ],
      "execution_count": 0,
      "outputs": []
    },
    {
      "cell_type": "code",
      "metadata": {
        "id": "ADcM23vJ2dGu",
        "colab_type": "code",
        "colab": {}
      },
      "source": [
        ""
      ],
      "execution_count": 0,
      "outputs": []
    }
  ]
}